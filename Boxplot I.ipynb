{
 "cells": [
  {
   "cell_type": "code",
   "execution_count": 1,
   "metadata": {},
   "outputs": [],
   "source": [
    "import pandas as pd\n",
    "import matplotlib.pyplot as plt"
   ]
  },
  {
   "cell_type": "code",
   "execution_count": 2,
   "metadata": {},
   "outputs": [
    {
     "data": {
      "text/html": [
       "<div>\n",
       "<style scoped>\n",
       "    .dataframe tbody tr th:only-of-type {\n",
       "        vertical-align: middle;\n",
       "    }\n",
       "\n",
       "    .dataframe tbody tr th {\n",
       "        vertical-align: top;\n",
       "    }\n",
       "\n",
       "    .dataframe thead th {\n",
       "        text-align: right;\n",
       "    }\n",
       "</style>\n",
       "<table border=\"1\" class=\"dataframe\">\n",
       "  <thead>\n",
       "    <tr style=\"text-align: right;\">\n",
       "      <th></th>\n",
       "      <th>Girth</th>\n",
       "      <th>Height</th>\n",
       "      <th>Volume</th>\n",
       "    </tr>\n",
       "  </thead>\n",
       "  <tbody>\n",
       "    <tr>\n",
       "      <th>0</th>\n",
       "      <td>8.3</td>\n",
       "      <td>70</td>\n",
       "      <td>10.3</td>\n",
       "    </tr>\n",
       "    <tr>\n",
       "      <th>1</th>\n",
       "      <td>8.6</td>\n",
       "      <td>65</td>\n",
       "      <td>10.3</td>\n",
       "    </tr>\n",
       "    <tr>\n",
       "      <th>2</th>\n",
       "      <td>8.8</td>\n",
       "      <td>63</td>\n",
       "      <td>10.2</td>\n",
       "    </tr>\n",
       "    <tr>\n",
       "      <th>3</th>\n",
       "      <td>10.5</td>\n",
       "      <td>72</td>\n",
       "      <td>16.4</td>\n",
       "    </tr>\n",
       "    <tr>\n",
       "      <th>4</th>\n",
       "      <td>10.7</td>\n",
       "      <td>81</td>\n",
       "      <td>18.8</td>\n",
       "    </tr>\n",
       "    <tr>\n",
       "      <th>5</th>\n",
       "      <td>10.8</td>\n",
       "      <td>83</td>\n",
       "      <td>19.7</td>\n",
       "    </tr>\n",
       "    <tr>\n",
       "      <th>6</th>\n",
       "      <td>11.0</td>\n",
       "      <td>66</td>\n",
       "      <td>15.6</td>\n",
       "    </tr>\n",
       "    <tr>\n",
       "      <th>7</th>\n",
       "      <td>11.0</td>\n",
       "      <td>75</td>\n",
       "      <td>18.2</td>\n",
       "    </tr>\n",
       "    <tr>\n",
       "      <th>8</th>\n",
       "      <td>11.1</td>\n",
       "      <td>80</td>\n",
       "      <td>22.6</td>\n",
       "    </tr>\n",
       "    <tr>\n",
       "      <th>9</th>\n",
       "      <td>11.2</td>\n",
       "      <td>75</td>\n",
       "      <td>19.9</td>\n",
       "    </tr>\n",
       "    <tr>\n",
       "      <th>10</th>\n",
       "      <td>11.3</td>\n",
       "      <td>79</td>\n",
       "      <td>24.2</td>\n",
       "    </tr>\n",
       "    <tr>\n",
       "      <th>11</th>\n",
       "      <td>11.4</td>\n",
       "      <td>76</td>\n",
       "      <td>21.0</td>\n",
       "    </tr>\n",
       "    <tr>\n",
       "      <th>12</th>\n",
       "      <td>11.4</td>\n",
       "      <td>76</td>\n",
       "      <td>21.4</td>\n",
       "    </tr>\n",
       "    <tr>\n",
       "      <th>13</th>\n",
       "      <td>11.7</td>\n",
       "      <td>69</td>\n",
       "      <td>21.3</td>\n",
       "    </tr>\n",
       "    <tr>\n",
       "      <th>14</th>\n",
       "      <td>12.0</td>\n",
       "      <td>75</td>\n",
       "      <td>19.1</td>\n",
       "    </tr>\n",
       "    <tr>\n",
       "      <th>15</th>\n",
       "      <td>12.9</td>\n",
       "      <td>74</td>\n",
       "      <td>22.2</td>\n",
       "    </tr>\n",
       "    <tr>\n",
       "      <th>16</th>\n",
       "      <td>12.9</td>\n",
       "      <td>85</td>\n",
       "      <td>33.8</td>\n",
       "    </tr>\n",
       "    <tr>\n",
       "      <th>17</th>\n",
       "      <td>13.3</td>\n",
       "      <td>86</td>\n",
       "      <td>27.4</td>\n",
       "    </tr>\n",
       "    <tr>\n",
       "      <th>18</th>\n",
       "      <td>13.7</td>\n",
       "      <td>71</td>\n",
       "      <td>25.7</td>\n",
       "    </tr>\n",
       "    <tr>\n",
       "      <th>19</th>\n",
       "      <td>13.8</td>\n",
       "      <td>64</td>\n",
       "      <td>24.9</td>\n",
       "    </tr>\n",
       "    <tr>\n",
       "      <th>20</th>\n",
       "      <td>14.0</td>\n",
       "      <td>78</td>\n",
       "      <td>34.5</td>\n",
       "    </tr>\n",
       "    <tr>\n",
       "      <th>21</th>\n",
       "      <td>14.2</td>\n",
       "      <td>80</td>\n",
       "      <td>31.7</td>\n",
       "    </tr>\n",
       "    <tr>\n",
       "      <th>22</th>\n",
       "      <td>14.5</td>\n",
       "      <td>74</td>\n",
       "      <td>36.3</td>\n",
       "    </tr>\n",
       "    <tr>\n",
       "      <th>23</th>\n",
       "      <td>16.0</td>\n",
       "      <td>72</td>\n",
       "      <td>38.3</td>\n",
       "    </tr>\n",
       "    <tr>\n",
       "      <th>24</th>\n",
       "      <td>16.3</td>\n",
       "      <td>77</td>\n",
       "      <td>42.6</td>\n",
       "    </tr>\n",
       "    <tr>\n",
       "      <th>25</th>\n",
       "      <td>17.3</td>\n",
       "      <td>81</td>\n",
       "      <td>55.4</td>\n",
       "    </tr>\n",
       "    <tr>\n",
       "      <th>26</th>\n",
       "      <td>17.5</td>\n",
       "      <td>82</td>\n",
       "      <td>55.7</td>\n",
       "    </tr>\n",
       "    <tr>\n",
       "      <th>27</th>\n",
       "      <td>17.9</td>\n",
       "      <td>80</td>\n",
       "      <td>58.3</td>\n",
       "    </tr>\n",
       "    <tr>\n",
       "      <th>28</th>\n",
       "      <td>18.0</td>\n",
       "      <td>80</td>\n",
       "      <td>51.5</td>\n",
       "    </tr>\n",
       "    <tr>\n",
       "      <th>29</th>\n",
       "      <td>18.0</td>\n",
       "      <td>80</td>\n",
       "      <td>51.0</td>\n",
       "    </tr>\n",
       "    <tr>\n",
       "      <th>30</th>\n",
       "      <td>20.6</td>\n",
       "      <td>87</td>\n",
       "      <td>77.0</td>\n",
       "    </tr>\n",
       "  </tbody>\n",
       "</table>\n",
       "</div>"
      ],
      "text/plain": [
       "    Girth  Height  Volume\n",
       "0     8.3      70    10.3\n",
       "1     8.6      65    10.3\n",
       "2     8.8      63    10.2\n",
       "3    10.5      72    16.4\n",
       "4    10.7      81    18.8\n",
       "5    10.8      83    19.7\n",
       "6    11.0      66    15.6\n",
       "7    11.0      75    18.2\n",
       "8    11.1      80    22.6\n",
       "9    11.2      75    19.9\n",
       "10   11.3      79    24.2\n",
       "11   11.4      76    21.0\n",
       "12   11.4      76    21.4\n",
       "13   11.7      69    21.3\n",
       "14   12.0      75    19.1\n",
       "15   12.9      74    22.2\n",
       "16   12.9      85    33.8\n",
       "17   13.3      86    27.4\n",
       "18   13.7      71    25.7\n",
       "19   13.8      64    24.9\n",
       "20   14.0      78    34.5\n",
       "21   14.2      80    31.7\n",
       "22   14.5      74    36.3\n",
       "23   16.0      72    38.3\n",
       "24   16.3      77    42.6\n",
       "25   17.3      81    55.4\n",
       "26   17.5      82    55.7\n",
       "27   17.9      80    58.3\n",
       "28   18.0      80    51.5\n",
       "29   18.0      80    51.0\n",
       "30   20.6      87    77.0"
      ]
     },
     "execution_count": 2,
     "metadata": {},
     "output_type": "execute_result"
    }
   ],
   "source": [
    "base = pd.read_csv(\"trees.csv\")\n",
    "base"
   ]
  },
  {
   "cell_type": "code",
   "execution_count": 3,
   "metadata": {},
   "outputs": [
    {
     "data": {
      "text/plain": [
       "{'whiskers': [<matplotlib.lines.Line2D at 0x2136eb68cc0>,\n",
       "  <matplotlib.lines.Line2D at 0x2136eb68da0>],\n",
       " 'caps': [<matplotlib.lines.Line2D at 0x2136eb87390>,\n",
       "  <matplotlib.lines.Line2D at 0x2136eb876d8>],\n",
       " 'boxes': [<matplotlib.lines.Line2D at 0x2136eb68898>],\n",
       " 'medians': [<matplotlib.lines.Line2D at 0x2136eb87a20>],\n",
       " 'fliers': [<matplotlib.lines.Line2D at 0x2136eb87d68>],\n",
       " 'means': []}"
      ]
     },
     "execution_count": 3,
     "metadata": {},
     "output_type": "execute_result"
    },
    {
     "data": {
      "image/png": "[encoded data removed]",
      "text/plain": [
       "<Figure size 432x288 with 1 Axes>"
      ]
     },
     "metadata": {
      "needs_background": "light"
     },
     "output_type": "display_data"
    }
   ],
   "source": [
    "plt.boxplot(base.Volume)"
   ]
  },
  {
   "cell_type": "code",
   "execution_count": 4,
   "metadata": {},
   "outputs": [
    {
     "data": {
      "text/plain": [
       "{'whiskers': [<matplotlib.lines.Line2D at 0x2136ec27860>,\n",
       "  <matplotlib.lines.Line2D at 0x2136ec27c18>],\n",
       " 'caps': [<matplotlib.lines.Line2D at 0x2136ec27f60>,\n",
       "  <matplotlib.lines.Line2D at 0x2136ec27ef0>],\n",
       " 'boxes': [<matplotlib.lines.Line2D at 0x2136ec27470>],\n",
       " 'medians': [<matplotlib.lines.Line2D at 0x2136ec33630>],\n",
       " 'fliers': [<matplotlib.lines.Line2D at 0x2136ec33978>],\n",
       " 'means': []}"
      ]
     },
     "execution_count": 4,
     "metadata": {},
     "output_type": "execute_result"
    },
    {
     "data": {
      "image/png": "[encoded data removed]",
      "text/plain": [
       "<Figure size 432x288 with 1 Axes>"
      ]
     },
     "metadata": {
      "needs_background": "light"
     },
     "output_type": "display_data"
    }
   ],
   "source": [
    "plt.boxplot(base.Volume, vert=False)"
   ]
  },
  {
   "cell_type": "code",
   "execution_count": 5,
   "metadata": {},
   "outputs": [
    {
     "data": {
      "text/plain": [
       "{'whiskers': [<matplotlib.lines.Line2D at 0x2136ec9b4a8>,\n",
       "  <matplotlib.lines.Line2D at 0x2136ec9b860>],\n",
       " 'caps': [<matplotlib.lines.Line2D at 0x2136ec9bba8>,\n",
       "  <matplotlib.lines.Line2D at 0x2136ec9bef0>],\n",
       " 'boxes': [<matplotlib.lines.Line2D at 0x2136ec9b0f0>],\n",
       " 'medians': [<matplotlib.lines.Line2D at 0x2136ec9bfd0>],\n",
       " 'fliers': [],\n",
       " 'means': []}"
      ]
     },
     "execution_count": 5,
     "metadata": {},
     "output_type": "execute_result"
    },
    {
     "data": {
      "image/png": "[encoded data removed]",
      "text/plain": [
       "<Figure size 432x288 with 1 Axes>"
      ]
     },
     "metadata": {
      "needs_background": "light"
     },
     "output_type": "display_data"
    }
   ],
   "source": [
    "plt.boxplot(base.Volume, showfliers=False)"
   ]
  },
  {
   "cell_type": "code",
   "execution_count": 6,
   "metadata": {},
   "outputs": [
    {
     "data": {
      "text/plain": [
       "{'whiskers': [<matplotlib.lines.Line2D at 0x2136ecf6ef0>,\n",
       "  <matplotlib.lines.Line2D at 0x2136ed03588>],\n",
       " 'caps': [<matplotlib.lines.Line2D at 0x2136ed038d0>,\n",
       "  <matplotlib.lines.Line2D at 0x2136ed03c18>],\n",
       " 'boxes': [<matplotlib.lines.Line2D at 0x2136ecf6da0>],\n",
       " 'medians': [<matplotlib.lines.Line2D at 0x2136ed03f60>],\n",
       " 'fliers': [<matplotlib.lines.Line2D at 0x2136ed03ef0>],\n",
       " 'means': []}"
      ]
     },
     "execution_count": 6,
     "metadata": {},
     "output_type": "execute_result"
    },
    {
     "data": {
      "image/png": "[encoded data removed]",
      "text/plain": [
       "<Figure size 432x288 with 1 Axes>"
      ]
     },
     "metadata": {
      "needs_background": "light"
     },
     "output_type": "display_data"
    }
   ],
   "source": [
    "plt.boxplot(base.Volume, notch=True)"
   ]
  },
  {
   "cell_type": "code",
   "execution_count": 7,
   "metadata": {},
   "outputs": [
    {
     "data": {
      "text/plain": [
       "{'whiskers': [<matplotlib.lines.Line2D at 0x2136ed677b8>,\n",
       "  <matplotlib.lines.Line2D at 0x2136ed67ba8>],\n",
       " 'caps': [<matplotlib.lines.Line2D at 0x2136ed67f28>,\n",
       "  <matplotlib.lines.Line2D at 0x2136ed67eb8>],\n",
       " 'boxes': [<matplotlib.patches.PathPatch at 0x2136ed67550>],\n",
       " 'medians': [<matplotlib.lines.Line2D at 0x2136ed6f5f8>],\n",
       " 'fliers': [<matplotlib.lines.Line2D at 0x2136ed6f940>],\n",
       " 'means': []}"
      ]
     },
     "execution_count": 7,
     "metadata": {},
     "output_type": "execute_result"
    },
    {
     "data": {
      "image/png": "[encoded data removed]",
      "text/plain": [
       "<Figure size 432x288 with 1 Axes>"
      ]
     },
     "metadata": {
      "needs_background": "light"
     },
     "output_type": "display_data"
    }
   ],
   "source": [
    "plt.boxplot(base.Volume, patch_artist=True)"
   ]
  },
  {
   "cell_type": "code",
   "execution_count": 8,
   "metadata": {},
   "outputs": [
    {
     "data": {
      "text/plain": [
       "Text(0.5, 0, 'Volume')"
      ]
     },
     "execution_count": 8,
     "metadata": {},
     "output_type": "execute_result"
    },
    {
     "data": {
      "image/png": "[encoded data removed]",
      "text/plain": [
       "<Figure size 432x288 with 1 Axes>"
      ]
     },
     "metadata": {
      "needs_background": "light"
     },
     "output_type": "display_data"
    }
   ],
   "source": [
    "plt.boxplot(base.Volume, vert=False, showfliers=False, notch=True, patch_artist=True)\n",
    "plt.title(\"Árvores\")\n",
    "plt.xlabel(\"Volume\")"
   ]
  },
  {
   "cell_type": "code",
   "execution_count": 9,
   "metadata": {},
   "outputs": [
    {
     "data": {
      "text/plain": [
       "{'whiskers': [<matplotlib.lines.Line2D at 0x2136ee1fdd8>,\n",
       "  <matplotlib.lines.Line2D at 0x2136ee1feb8>,\n",
       "  <matplotlib.lines.Line2D at 0x2136ee41550>,\n",
       "  <matplotlib.lines.Line2D at 0x2136ee41898>,\n",
       "  <matplotlib.lines.Line2D at 0x2136ee4dc88>,\n",
       "  <matplotlib.lines.Line2D at 0x2136ee4dfd0>,\n",
       "  <matplotlib.lines.Line2D at 0x2136ee65400>,\n",
       "  <matplotlib.lines.Line2D at 0x2136ee65748>,\n",
       "  <matplotlib.lines.Line2D at 0x2136ee72b38>,\n",
       "  <matplotlib.lines.Line2D at 0x2136ee72e80>,\n",
       "  <matplotlib.lines.Line2D at 0x2136ee7def0>,\n",
       "  <matplotlib.lines.Line2D at 0x2136ee8a5f8>,\n",
       "  <matplotlib.lines.Line2D at 0x2136ee969e8>,\n",
       "  <matplotlib.lines.Line2D at 0x2136ee96d30>,\n",
       "  <matplotlib.lines.Line2D at 0x2136eea3eb8>,\n",
       "  <matplotlib.lines.Line2D at 0x2136eeae4a8>,\n",
       "  <matplotlib.lines.Line2D at 0x2136eebb898>,\n",
       "  <matplotlib.lines.Line2D at 0x2136eebbbe0>,\n",
       "  <matplotlib.lines.Line2D at 0x2136eec7fd0>,\n",
       "  <matplotlib.lines.Line2D at 0x2136eec7f60>,\n",
       "  <matplotlib.lines.Line2D at 0x2136eedf748>,\n",
       "  <matplotlib.lines.Line2D at 0x2136eedfa90>,\n",
       "  <matplotlib.lines.Line2D at 0x2136eeece80>,\n",
       "  <matplotlib.lines.Line2D at 0x2136eeecf60>,\n",
       "  <matplotlib.lines.Line2D at 0x2136ef065f8>,\n",
       "  <matplotlib.lines.Line2D at 0x2136ef06940>,\n",
       "  <matplotlib.lines.Line2D at 0x2136ef11d30>,\n",
       "  <matplotlib.lines.Line2D at 0x2136ef11e10>,\n",
       "  <matplotlib.lines.Line2D at 0x2136ef284a8>,\n",
       "  <matplotlib.lines.Line2D at 0x2136ef287f0>,\n",
       "  <matplotlib.lines.Line2D at 0x2136ef36a58>,\n",
       "  <matplotlib.lines.Line2D at 0x2136ef36d68>,\n",
       "  <matplotlib.lines.Line2D at 0x2136ef41e10>,\n",
       "  <matplotlib.lines.Line2D at 0x2136ef51358>,\n",
       "  <matplotlib.lines.Line2D at 0x2136ef51fd0>,\n",
       "  <matplotlib.lines.Line2D at 0x2136ef5f908>,\n",
       "  <matplotlib.lines.Line2D at 0x2136ef6bba8>,\n",
       "  <matplotlib.lines.Line2D at 0x2136ef6beb8>,\n",
       "  <matplotlib.lines.Line2D at 0x2136ef78f60>,\n",
       "  <matplotlib.lines.Line2D at 0x2136ef854a8>,\n",
       "  <matplotlib.lines.Line2D at 0x2136ef93748>,\n",
       "  <matplotlib.lines.Line2D at 0x2136ef93a58>,\n",
       "  <matplotlib.lines.Line2D at 0x2136ef9ecf8>,\n",
       "  <matplotlib.lines.Line2D at 0x2136ef9ee10>,\n",
       "  <matplotlib.lines.Line2D at 0x2136efadcc0>,\n",
       "  <matplotlib.lines.Line2D at 0x2136efba5f8>,\n",
       "  <matplotlib.lines.Line2D at 0x2136efc6898>,\n",
       "  <matplotlib.lines.Line2D at 0x2136efc6ba8>,\n",
       "  <matplotlib.lines.Line2D at 0x2136efd4e48>,\n",
       "  <matplotlib.lines.Line2D at 0x2136efd4f60>,\n",
       "  <matplotlib.lines.Line2D at 0x2136efe3e10>,\n",
       "  <matplotlib.lines.Line2D at 0x2136efee748>,\n",
       "  <matplotlib.lines.Line2D at 0x2136effd9e8>,\n",
       "  <matplotlib.lines.Line2D at 0x2136effdcf8>,\n",
       "  <matplotlib.lines.Line2D at 0x2136f009f98>,\n",
       "  <matplotlib.lines.Line2D at 0x2136f009fd0>,\n",
       "  <matplotlib.lines.Line2D at 0x2136f017f60>,\n",
       "  <matplotlib.lines.Line2D at 0x2136f023898>,\n",
       "  <matplotlib.lines.Line2D at 0x2136f030b38>,\n",
       "  <matplotlib.lines.Line2D at 0x2136f030e48>,\n",
       "  <matplotlib.lines.Line2D at 0x2136f03eef0>,\n",
       "  <matplotlib.lines.Line2D at 0x2136f04a438>],\n",
       " 'caps': [<matplotlib.lines.Line2D at 0x2136ee344a8>,\n",
       "  <matplotlib.lines.Line2D at 0x2136ee347f0>,\n",
       "  <matplotlib.lines.Line2D at 0x2136ee41be0>,\n",
       "  <matplotlib.lines.Line2D at 0x2136ee41f28>,\n",
       "  <matplotlib.lines.Line2D at 0x2136ee4df60>,\n",
       "  <matplotlib.lines.Line2D at 0x2136ee596a0>,\n",
       "  <matplotlib.lines.Line2D at 0x2136ee65a90>,\n",
       "  <matplotlib.lines.Line2D at 0x2136ee65dd8>,\n",
       "  <matplotlib.lines.Line2D at 0x2136ee72f60>,\n",
       "  <matplotlib.lines.Line2D at 0x2136ee7d550>,\n",
       "  <matplotlib.lines.Line2D at 0x2136ee8a940>,\n",
       "  <matplotlib.lines.Line2D at 0x2136ee8ac88>,\n",
       "  <matplotlib.lines.Line2D at 0x2136ee96e10>,\n",
       "  <matplotlib.lines.Line2D at 0x2136eea3400>,\n",
       "  <matplotlib.lines.Line2D at 0x2136eeae7f0>,\n",
       "  <matplotlib.lines.Line2D at 0x2136eeaeb38>,\n",
       "  <matplotlib.lines.Line2D at 0x2136eebbf28>,\n",
       "  <matplotlib.lines.Line2D at 0x2136eebbeb8>,\n",
       "  <matplotlib.lines.Line2D at 0x2136eed56a0>,\n",
       "  <matplotlib.lines.Line2D at 0x2136eed59e8>,\n",
       "  <matplotlib.lines.Line2D at 0x2136eedfdd8>,\n",
       "  <matplotlib.lines.Line2D at 0x2136eedfeb8>,\n",
       "  <matplotlib.lines.Line2D at 0x2136eef9550>,\n",
       "  <matplotlib.lines.Line2D at 0x2136eef9898>,\n",
       "  <matplotlib.lines.Line2D at 0x2136ef06c88>,\n",
       "  <matplotlib.lines.Line2D at 0x2136ef06fd0>,\n",
       "  <matplotlib.lines.Line2D at 0x2136ef1d400>,\n",
       "  <matplotlib.lines.Line2D at 0x2136ef1d748>,\n",
       "  <matplotlib.lines.Line2D at 0x2136ef28ac8>,\n",
       "  <matplotlib.lines.Line2D at 0x2136ef28dd8>,\n",
       "  <matplotlib.lines.Line2D at 0x2136ef36e80>,\n",
       "  <matplotlib.lines.Line2D at 0x2136ef413c8>,\n",
       "  <matplotlib.lines.Line2D at 0x2136ef51668>,\n",
       "  <matplotlib.lines.Line2D at 0x2136ef51978>,\n",
       "  <matplotlib.lines.Line2D at 0x2136ef5fc18>,\n",
       "  <matplotlib.lines.Line2D at 0x2136ef5ff28>,\n",
       "  <matplotlib.lines.Line2D at 0x2136ef6bfd0>,\n",
       "  <matplotlib.lines.Line2D at 0x2136ef78518>,\n",
       "  <matplotlib.lines.Line2D at 0x2136ef857b8>,\n",
       "  <matplotlib.lines.Line2D at 0x2136ef85ac8>,\n",
       "  <matplotlib.lines.Line2D at 0x2136ef93d68>,\n",
       "  <matplotlib.lines.Line2D at 0x2136ef93e80>,\n",
       "  <matplotlib.lines.Line2D at 0x2136efad358>,\n",
       "  <matplotlib.lines.Line2D at 0x2136efad668>,\n",
       "  <matplotlib.lines.Line2D at 0x2136efba908>,\n",
       "  <matplotlib.lines.Line2D at 0x2136efbac18>,\n",
       "  <matplotlib.lines.Line2D at 0x2136efc6eb8>,\n",
       "  <matplotlib.lines.Line2D at 0x2136efc6fd0>,\n",
       "  <matplotlib.lines.Line2D at 0x2136efe34a8>,\n",
       "  <matplotlib.lines.Line2D at 0x2136efe37b8>,\n",
       "  <matplotlib.lines.Line2D at 0x2136efeea58>,\n",
       "  <matplotlib.lines.Line2D at 0x2136efeed68>,\n",
       "  <matplotlib.lines.Line2D at 0x2136effde10>,\n",
       "  <matplotlib.lines.Line2D at 0x2136f009358>,\n",
       "  <matplotlib.lines.Line2D at 0x2136f0175f8>,\n",
       "  <matplotlib.lines.Line2D at 0x2136f017908>,\n",
       "  <matplotlib.lines.Line2D at 0x2136f023ba8>,\n",
       "  <matplotlib.lines.Line2D at 0x2136f023eb8>,\n",
       "  <matplotlib.lines.Line2D at 0x2136f030f60>,\n",
       "  <matplotlib.lines.Line2D at 0x2136f03e4a8>,\n",
       "  <matplotlib.lines.Line2D at 0x2136f04a748>,\n",
       "  <matplotlib.lines.Line2D at 0x2136f04aa58>],\n",
       " 'boxes': [<matplotlib.lines.Line2D at 0x2136ee1f9e8>,\n",
       "  <matplotlib.lines.Line2D at 0x2136ee34f28>,\n",
       "  <matplotlib.lines.Line2D at 0x2136ee4d940>,\n",
       "  <matplotlib.lines.Line2D at 0x2136ee59dd8>,\n",
       "  <matplotlib.lines.Line2D at 0x2136ee727f0>,\n",
       "  <matplotlib.lines.Line2D at 0x2136ee7df28>,\n",
       "  <matplotlib.lines.Line2D at 0x2136ee966a0>,\n",
       "  <matplotlib.lines.Line2D at 0x2136eea3dd8>,\n",
       "  <matplotlib.lines.Line2D at 0x2136eebb550>,\n",
       "  <matplotlib.lines.Line2D at 0x2136eec7c88>,\n",
       "  <matplotlib.lines.Line2D at 0x2136eedf400>,\n",
       "  <matplotlib.lines.Line2D at 0x2136eeecb38>,\n",
       "  <matplotlib.lines.Line2D at 0x2136eef9fd0>,\n",
       "  <matplotlib.lines.Line2D at 0x2136ef119e8>,\n",
       "  <matplotlib.lines.Line2D at 0x2136ef1de80>,\n",
       "  <matplotlib.lines.Line2D at 0x2136ef36780>,\n",
       "  <matplotlib.lines.Line2D at 0x2136ef41d30>,\n",
       "  <matplotlib.lines.Line2D at 0x2136ef51cc0>,\n",
       "  <matplotlib.lines.Line2D at 0x2136ef6b8d0>,\n",
       "  <matplotlib.lines.Line2D at 0x2136ef78e80>,\n",
       "  <matplotlib.lines.Line2D at 0x2136ef93470>,\n",
       "  <matplotlib.lines.Line2D at 0x2136ef9ea20>,\n",
       "  <matplotlib.lines.Line2D at 0x2136efadfd0>,\n",
       "  <matplotlib.lines.Line2D at 0x2136efc65c0>,\n",
       "  <matplotlib.lines.Line2D at 0x2136efd4b70>,\n",
       "  <matplotlib.lines.Line2D at 0x2136efe3eb8>,\n",
       "  <matplotlib.lines.Line2D at 0x2136effd710>,\n",
       "  <matplotlib.lines.Line2D at 0x2136f009cc0>,\n",
       "  <matplotlib.lines.Line2D at 0x2136f017c50>,\n",
       "  <matplotlib.lines.Line2D at 0x2136f030860>,\n",
       "  <matplotlib.lines.Line2D at 0x2136f03ee10>],\n",
       " 'medians': [<matplotlib.lines.Line2D at 0x2136ee34b38>,\n",
       "  <matplotlib.lines.Line2D at 0x2136ee41eb8>,\n",
       "  <matplotlib.lines.Line2D at 0x2136ee599e8>,\n",
       "  <matplotlib.lines.Line2D at 0x2136ee65eb8>,\n",
       "  <matplotlib.lines.Line2D at 0x2136ee7d898>,\n",
       "  <matplotlib.lines.Line2D at 0x2136ee8afd0>,\n",
       "  <matplotlib.lines.Line2D at 0x2136eea3748>,\n",
       "  <matplotlib.lines.Line2D at 0x2136eeaee80>,\n",
       "  <matplotlib.lines.Line2D at 0x2136eec75f8>,\n",
       "  <matplotlib.lines.Line2D at 0x2136eed5d30>,\n",
       "  <matplotlib.lines.Line2D at 0x2136eeec4a8>,\n",
       "  <matplotlib.lines.Line2D at 0x2136eef9be0>,\n",
       "  <matplotlib.lines.Line2D at 0x2136ef06f60>,\n",
       "  <matplotlib.lines.Line2D at 0x2136ef1da90>,\n",
       "  <matplotlib.lines.Line2D at 0x2136ef28ef0>,\n",
       "  <matplotlib.lines.Line2D at 0x2136ef416d8>,\n",
       "  <matplotlib.lines.Line2D at 0x2136ef51c88>,\n",
       "  <matplotlib.lines.Line2D at 0x2136ef5ff60>,\n",
       "  <matplotlib.lines.Line2D at 0x2136ef78828>,\n",
       "  <matplotlib.lines.Line2D at 0x2136ef85dd8>,\n",
       "  <matplotlib.lines.Line2D at 0x2136ef9e3c8>,\n",
       "  <matplotlib.lines.Line2D at 0x2136efad978>,\n",
       "  <matplotlib.lines.Line2D at 0x2136efbaf28>,\n",
       "  <matplotlib.lines.Line2D at 0x2136efd4518>,\n",
       "  <matplotlib.lines.Line2D at 0x2136efe3ac8>,\n",
       "  <matplotlib.lines.Line2D at 0x2136efeee80>,\n",
       "  <matplotlib.lines.Line2D at 0x2136f009668>,\n",
       "  <matplotlib.lines.Line2D at 0x2136f017c18>,\n",
       "  <matplotlib.lines.Line2D at 0x2136f023fd0>,\n",
       "  <matplotlib.lines.Line2D at 0x2136f03e7b8>,\n",
       "  <matplotlib.lines.Line2D at 0x2136f04ad68>],\n",
       " 'fliers': [<matplotlib.lines.Line2D at 0x2136ee34e80>,\n",
       "  <matplotlib.lines.Line2D at 0x2136ee4d5f8>,\n",
       "  <matplotlib.lines.Line2D at 0x2136ee59d30>,\n",
       "  <matplotlib.lines.Line2D at 0x2136ee724a8>,\n",
       "  <matplotlib.lines.Line2D at 0x2136ee7dbe0>,\n",
       "  <matplotlib.lines.Line2D at 0x2136ee8af60>,\n",
       "  <matplotlib.lines.Line2D at 0x2136eea3a90>,\n",
       "  <matplotlib.lines.Line2D at 0x2136eeaef60>,\n",
       "  <matplotlib.lines.Line2D at 0x2136eec7940>,\n",
       "  <matplotlib.lines.Line2D at 0x2136eed5e10>,\n",
       "  <matplotlib.lines.Line2D at 0x2136eeec7f0>,\n",
       "  <matplotlib.lines.Line2D at 0x2136eef9f28>,\n",
       "  <matplotlib.lines.Line2D at 0x2136ef116a0>,\n",
       "  <matplotlib.lines.Line2D at 0x2136ef1ddd8>,\n",
       "  <matplotlib.lines.Line2D at 0x2136ef36438>,\n",
       "  <matplotlib.lines.Line2D at 0x2136ef419e8>,\n",
       "  <matplotlib.lines.Line2D at 0x2136ef51f98>,\n",
       "  <matplotlib.lines.Line2D at 0x2136ef6b588>,\n",
       "  <matplotlib.lines.Line2D at 0x2136ef78b38>,\n",
       "  <matplotlib.lines.Line2D at 0x2136ef85ef0>,\n",
       "  <matplotlib.lines.Line2D at 0x2136ef9e6d8>,\n",
       "  <matplotlib.lines.Line2D at 0x2136efadc88>,\n",
       "  <matplotlib.lines.Line2D at 0x2136efbaf60>,\n",
       "  <matplotlib.lines.Line2D at 0x2136efd4828>,\n",
       "  <matplotlib.lines.Line2D at 0x2136efe3dd8>,\n",
       "  <matplotlib.lines.Line2D at 0x2136effd3c8>,\n",
       "  <matplotlib.lines.Line2D at 0x2136f009978>,\n",
       "  <matplotlib.lines.Line2D at 0x2136f017f28>,\n",
       "  <matplotlib.lines.Line2D at 0x2136f030518>,\n",
       "  <matplotlib.lines.Line2D at 0x2136f03eac8>,\n",
       "  <matplotlib.lines.Line2D at 0x2136f04ae80>],\n",
       " 'means': []}"
      ]
     },
     "execution_count": 9,
     "metadata": {},
     "output_type": "execute_result"
    },
    {
     "data": {
      "image/png": "[encoded data removed]",
      "text/plain": [
       "<Figure size 432x288 with 1 Axes>"
      ]
     },
     "metadata": {
      "needs_background": "light"
     },
     "output_type": "display_data"
    }
   ],
   "source": [
    "plt.boxplot(base)"
   ]
  }
 ],
 "metadata": {
  "kernelspec": {
   "display_name": "Python 3",
   "language": "python",
   "name": "python3"
  },
  "language_info": {
   "codemirror_mode": {
    "name": "ipython",
    "version": 3
   },
   "file_extension": ".py",
   "mimetype": "text/x-python",
   "name": "python",
   "nbconvert_exporter": "python",
   "pygments_lexer": "ipython3",
   "version": "3.7.3"
  }
 },
 "nbformat": 4,
 "nbformat_minor": 4
}
