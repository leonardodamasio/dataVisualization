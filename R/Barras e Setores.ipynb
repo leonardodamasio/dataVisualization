{
 "cells": [
  {
   "cell_type": "markdown",
   "metadata": {},
   "source": [
    "### Barras e Setores"
   ]
  },
  {
   "cell_type": "code",
   "execution_count": 1,
   "metadata": {},
   "outputs": [
    {
     "data": {
      "text/html": [
       "<table>\n",
       "<caption>A data.frame: 72 × 2</caption>\n",
       "<thead>\n",
       "\t<tr><th scope=col>count</th><th scope=col>spray</th></tr>\n",
       "\t<tr><th scope=col>&lt;dbl&gt;</th><th scope=col>&lt;fct&gt;</th></tr>\n",
       "</thead>\n",
       "<tbody>\n",
       "\t<tr><td>10</td><td>A</td></tr>\n",
       "\t<tr><td> 7</td><td>A</td></tr>\n",
       "\t<tr><td>20</td><td>A</td></tr>\n",
       "\t<tr><td>14</td><td>A</td></tr>\n",
       "\t<tr><td>14</td><td>A</td></tr>\n",
       "\t<tr><td>12</td><td>A</td></tr>\n",
       "\t<tr><td>10</td><td>A</td></tr>\n",
       "\t<tr><td>23</td><td>A</td></tr>\n",
       "\t<tr><td>17</td><td>A</td></tr>\n",
       "\t<tr><td>20</td><td>A</td></tr>\n",
       "\t<tr><td>14</td><td>A</td></tr>\n",
       "\t<tr><td>13</td><td>A</td></tr>\n",
       "\t<tr><td>11</td><td>B</td></tr>\n",
       "\t<tr><td>17</td><td>B</td></tr>\n",
       "\t<tr><td>21</td><td>B</td></tr>\n",
       "\t<tr><td>11</td><td>B</td></tr>\n",
       "\t<tr><td>16</td><td>B</td></tr>\n",
       "\t<tr><td>14</td><td>B</td></tr>\n",
       "\t<tr><td>17</td><td>B</td></tr>\n",
       "\t<tr><td>17</td><td>B</td></tr>\n",
       "\t<tr><td>19</td><td>B</td></tr>\n",
       "\t<tr><td>21</td><td>B</td></tr>\n",
       "\t<tr><td> 7</td><td>B</td></tr>\n",
       "\t<tr><td>13</td><td>B</td></tr>\n",
       "\t<tr><td> 0</td><td>C</td></tr>\n",
       "\t<tr><td> 1</td><td>C</td></tr>\n",
       "\t<tr><td> 7</td><td>C</td></tr>\n",
       "\t<tr><td> 2</td><td>C</td></tr>\n",
       "\t<tr><td> 3</td><td>C</td></tr>\n",
       "\t<tr><td> 1</td><td>C</td></tr>\n",
       "\t<tr><td>...</td><td>...</td></tr>\n",
       "\t<tr><td> 5</td><td>D</td></tr>\n",
       "\t<tr><td> 5</td><td>D</td></tr>\n",
       "\t<tr><td> 5</td><td>D</td></tr>\n",
       "\t<tr><td> 5</td><td>D</td></tr>\n",
       "\t<tr><td> 2</td><td>D</td></tr>\n",
       "\t<tr><td> 4</td><td>D</td></tr>\n",
       "\t<tr><td> 3</td><td>E</td></tr>\n",
       "\t<tr><td> 5</td><td>E</td></tr>\n",
       "\t<tr><td> 3</td><td>E</td></tr>\n",
       "\t<tr><td> 5</td><td>E</td></tr>\n",
       "\t<tr><td> 3</td><td>E</td></tr>\n",
       "\t<tr><td> 6</td><td>E</td></tr>\n",
       "\t<tr><td> 1</td><td>E</td></tr>\n",
       "\t<tr><td> 1</td><td>E</td></tr>\n",
       "\t<tr><td> 3</td><td>E</td></tr>\n",
       "\t<tr><td> 2</td><td>E</td></tr>\n",
       "\t<tr><td> 6</td><td>E</td></tr>\n",
       "\t<tr><td> 4</td><td>E</td></tr>\n",
       "\t<tr><td>11</td><td>F</td></tr>\n",
       "\t<tr><td> 9</td><td>F</td></tr>\n",
       "\t<tr><td>15</td><td>F</td></tr>\n",
       "\t<tr><td>22</td><td>F</td></tr>\n",
       "\t<tr><td>15</td><td>F</td></tr>\n",
       "\t<tr><td>16</td><td>F</td></tr>\n",
       "\t<tr><td>13</td><td>F</td></tr>\n",
       "\t<tr><td>10</td><td>F</td></tr>\n",
       "\t<tr><td>26</td><td>F</td></tr>\n",
       "\t<tr><td>26</td><td>F</td></tr>\n",
       "\t<tr><td>24</td><td>F</td></tr>\n",
       "\t<tr><td>13</td><td>F</td></tr>\n",
       "</tbody>\n",
       "</table>\n"
      ],
      "text/latex": [
       "A data.frame: 72 × 2\n",
       "\\begin{tabular}{ll}\n",
       " count & spray\\\\\n",
       " <dbl> & <fct>\\\\\n",
       "\\hline\n",
       "\t 10 & A\\\\\n",
       "\t  7 & A\\\\\n",
       "\t 20 & A\\\\\n",
       "\t 14 & A\\\\\n",
       "\t 14 & A\\\\\n",
       "\t 12 & A\\\\\n",
       "\t 10 & A\\\\\n",
       "\t 23 & A\\\\\n",
       "\t 17 & A\\\\\n",
       "\t 20 & A\\\\\n",
       "\t 14 & A\\\\\n",
       "\t 13 & A\\\\\n",
       "\t 11 & B\\\\\n",
       "\t 17 & B\\\\\n",
       "\t 21 & B\\\\\n",
       "\t 11 & B\\\\\n",
       "\t 16 & B\\\\\n",
       "\t 14 & B\\\\\n",
       "\t 17 & B\\\\\n",
       "\t 17 & B\\\\\n",
       "\t 19 & B\\\\\n",
       "\t 21 & B\\\\\n",
       "\t  7 & B\\\\\n",
       "\t 13 & B\\\\\n",
       "\t  0 & C\\\\\n",
       "\t  1 & C\\\\\n",
       "\t  7 & C\\\\\n",
       "\t  2 & C\\\\\n",
       "\t  3 & C\\\\\n",
       "\t  1 & C\\\\\n",
       "\t ... & ...\\\\\n",
       "\t  5 & D\\\\\n",
       "\t  5 & D\\\\\n",
       "\t  5 & D\\\\\n",
       "\t  5 & D\\\\\n",
       "\t  2 & D\\\\\n",
       "\t  4 & D\\\\\n",
       "\t  3 & E\\\\\n",
       "\t  5 & E\\\\\n",
       "\t  3 & E\\\\\n",
       "\t  5 & E\\\\\n",
       "\t  3 & E\\\\\n",
       "\t  6 & E\\\\\n",
       "\t  1 & E\\\\\n",
       "\t  1 & E\\\\\n",
       "\t  3 & E\\\\\n",
       "\t  2 & E\\\\\n",
       "\t  6 & E\\\\\n",
       "\t  4 & E\\\\\n",
       "\t 11 & F\\\\\n",
       "\t  9 & F\\\\\n",
       "\t 15 & F\\\\\n",
       "\t 22 & F\\\\\n",
       "\t 15 & F\\\\\n",
       "\t 16 & F\\\\\n",
       "\t 13 & F\\\\\n",
       "\t 10 & F\\\\\n",
       "\t 26 & F\\\\\n",
       "\t 26 & F\\\\\n",
       "\t 24 & F\\\\\n",
       "\t 13 & F\\\\\n",
       "\\end{tabular}\n"
      ],
      "text/markdown": [
       "\n",
       "A data.frame: 72 × 2\n",
       "\n",
       "| count &lt;dbl&gt; | spray &lt;fct&gt; |\n",
       "|---|---|\n",
       "| 10 | A |\n",
       "|  7 | A |\n",
       "| 20 | A |\n",
       "| 14 | A |\n",
       "| 14 | A |\n",
       "| 12 | A |\n",
       "| 10 | A |\n",
       "| 23 | A |\n",
       "| 17 | A |\n",
       "| 20 | A |\n",
       "| 14 | A |\n",
       "| 13 | A |\n",
       "| 11 | B |\n",
       "| 17 | B |\n",
       "| 21 | B |\n",
       "| 11 | B |\n",
       "| 16 | B |\n",
       "| 14 | B |\n",
       "| 17 | B |\n",
       "| 17 | B |\n",
       "| 19 | B |\n",
       "| 21 | B |\n",
       "|  7 | B |\n",
       "| 13 | B |\n",
       "|  0 | C |\n",
       "|  1 | C |\n",
       "|  7 | C |\n",
       "|  2 | C |\n",
       "|  3 | C |\n",
       "|  1 | C |\n",
       "| ... | ... |\n",
       "|  5 | D |\n",
       "|  5 | D |\n",
       "|  5 | D |\n",
       "|  5 | D |\n",
       "|  2 | D |\n",
       "|  4 | D |\n",
       "|  3 | E |\n",
       "|  5 | E |\n",
       "|  3 | E |\n",
       "|  5 | E |\n",
       "|  3 | E |\n",
       "|  6 | E |\n",
       "|  1 | E |\n",
       "|  1 | E |\n",
       "|  3 | E |\n",
       "|  2 | E |\n",
       "|  6 | E |\n",
       "|  4 | E |\n",
       "| 11 | F |\n",
       "|  9 | F |\n",
       "| 15 | F |\n",
       "| 22 | F |\n",
       "| 15 | F |\n",
       "| 16 | F |\n",
       "| 13 | F |\n",
       "| 10 | F |\n",
       "| 26 | F |\n",
       "| 26 | F |\n",
       "| 24 | F |\n",
       "| 13 | F |\n",
       "\n"
      ],
      "text/plain": [
       "    count spray\n",
       "1   10    A    \n",
       "2    7    A    \n",
       "3   20    A    \n",
       "4   14    A    \n",
       "5   14    A    \n",
       "6   12    A    \n",
       "7   10    A    \n",
       "8   23    A    \n",
       "9   17    A    \n",
       "10  20    A    \n",
       "11  14    A    \n",
       "12  13    A    \n",
       "13  11    B    \n",
       "14  17    B    \n",
       "15  21    B    \n",
       "16  11    B    \n",
       "17  16    B    \n",
       "18  14    B    \n",
       "19  17    B    \n",
       "20  17    B    \n",
       "21  19    B    \n",
       "22  21    B    \n",
       "23   7    B    \n",
       "24  13    B    \n",
       "25   0    C    \n",
       "26   1    C    \n",
       "27   7    C    \n",
       "28   2    C    \n",
       "29   3    C    \n",
       "30   1    C    \n",
       "... ...   ...  \n",
       "43   5    D    \n",
       "44   5    D    \n",
       "45   5    D    \n",
       "46   5    D    \n",
       "47   2    D    \n",
       "48   4    D    \n",
       "49   3    E    \n",
       "50   5    E    \n",
       "51   3    E    \n",
       "52   5    E    \n",
       "53   3    E    \n",
       "54   6    E    \n",
       "55   1    E    \n",
       "56   1    E    \n",
       "57   3    E    \n",
       "58   2    E    \n",
       "59   6    E    \n",
       "60   4    E    \n",
       "61  11    F    \n",
       "62   9    F    \n",
       "63  15    F    \n",
       "64  22    F    \n",
       "65  15    F    \n",
       "66  16    F    \n",
       "67  13    F    \n",
       "68  10    F    \n",
       "69  26    F    \n",
       "70  26    F    \n",
       "71  24    F    \n",
       "72  13    F    "
      ]
     },
     "metadata": {},
     "output_type": "display_data"
    }
   ],
   "source": [
    "InsectSprays"
   ]
  },
  {
   "cell_type": "code",
   "execution_count": 2,
   "metadata": {},
   "outputs": [],
   "source": [
    "spray = aggregate( . ~ spray, data=InsectSprays, sum)"
   ]
  },
  {
   "cell_type": "code",
   "execution_count": 3,
   "metadata": {},
   "outputs": [
    {
     "data": {
      "text/html": [
       "<table>\n",
       "<caption>A data.frame: 6 × 2</caption>\n",
       "<thead>\n",
       "\t<tr><th scope=col>spray</th><th scope=col>count</th></tr>\n",
       "\t<tr><th scope=col>&lt;fct&gt;</th><th scope=col>&lt;dbl&gt;</th></tr>\n",
       "</thead>\n",
       "<tbody>\n",
       "\t<tr><td>A</td><td>174</td></tr>\n",
       "\t<tr><td>B</td><td>184</td></tr>\n",
       "\t<tr><td>C</td><td> 25</td></tr>\n",
       "\t<tr><td>D</td><td> 59</td></tr>\n",
       "\t<tr><td>E</td><td> 42</td></tr>\n",
       "\t<tr><td>F</td><td>200</td></tr>\n",
       "</tbody>\n",
       "</table>\n"
      ],
      "text/latex": [
       "A data.frame: 6 × 2\n",
       "\\begin{tabular}{ll}\n",
       " spray & count\\\\\n",
       " <fct> & <dbl>\\\\\n",
       "\\hline\n",
       "\t A & 174\\\\\n",
       "\t B & 184\\\\\n",
       "\t C &  25\\\\\n",
       "\t D &  59\\\\\n",
       "\t E &  42\\\\\n",
       "\t F & 200\\\\\n",
       "\\end{tabular}\n"
      ],
      "text/markdown": [
       "\n",
       "A data.frame: 6 × 2\n",
       "\n",
       "| spray &lt;fct&gt; | count &lt;dbl&gt; |\n",
       "|---|---|\n",
       "| A | 174 |\n",
       "| B | 184 |\n",
       "| C |  25 |\n",
       "| D |  59 |\n",
       "| E |  42 |\n",
       "| F | 200 |\n",
       "\n"
      ],
      "text/plain": [
       "  spray count\n",
       "1 A     174  \n",
       "2 B     184  \n",
       "3 C      25  \n",
       "4 D      59  \n",
       "5 E      42  \n",
       "6 F     200  "
      ]
     },
     "metadata": {},
     "output_type": "display_data"
    }
   ],
   "source": [
    "spray"
   ]
  },
  {
   "cell_type": "code",
   "execution_count": 4,
   "metadata": {},
   "outputs": [
    {
     "data": {
      "image/png": "[encoded data removed]",
      "text/plain": [
       "plot without title"
      ]
     },
     "metadata": {
      "image/png": {
       "height": 420,
       "width": 420
      },
      "text/plain": {
       "height": 420,
       "width": 420
      }
     },
     "output_type": "display_data"
    }
   ],
   "source": [
    "barplot(spray$count, col=gray.colors(6), xlab=\"Spray\", ylab=\"Total\", names.arg=spray$spray)"
   ]
  },
  {
   "cell_type": "code",
   "execution_count": 5,
   "metadata": {},
   "outputs": [
    {
     "data": {
      "image/png": "[encoded data removed]",
      "text/plain": [
       "plot without title"
      ]
     },
     "metadata": {
      "image/png": {
       "height": 420,
       "width": 420
      },
      "text/plain": {
       "height": 420,
       "width": 420
      }
     },
     "output_type": "display_data"
    }
   ],
   "source": [
    "barplot(spray$count, col=gray.colors(6), xlab=\"Spray\", ylab=\"Total\", names.arg=spray$spray)\n",
    "box()"
   ]
  },
  {
   "cell_type": "code",
   "execution_count": 6,
   "metadata": {},
   "outputs": [
    {
     "data": {
      "image/png": "[encoded data removed]",
      "text/plain": [
       "Plot with title \"Spray\""
      ]
     },
     "metadata": {
      "image/png": {
       "height": 420,
       "width": 420
      },
      "text/plain": {
       "height": 420,
       "width": 420
      }
     },
     "output_type": "display_data"
    }
   ],
   "source": [
    "pie(spray$count, labels=spray$spray, main=\"Spray\", col=c(1:6))"
   ]
  },
  {
   "cell_type": "code",
   "execution_count": 7,
   "metadata": {},
   "outputs": [
    {
     "data": {
      "image/png": "[encoded data removed]",
      "text/plain": [
       "Plot with title \"Spray\""
      ]
     },
     "metadata": {
      "image/png": {
       "height": 420,
       "width": 420
      },
      "text/plain": {
       "height": 420,
       "width": 420
      }
     },
     "output_type": "display_data"
    }
   ],
   "source": [
    "pie(spray$count, labels=NA, main=\"Spray\", col=c(1:6))"
   ]
  },
  {
   "cell_type": "code",
   "execution_count": 8,
   "metadata": {},
   "outputs": [
    {
     "data": {
      "image/png": "[encoded data removed]",
      "text/plain": [
       "Plot with title \"Spray\""
      ]
     },
     "metadata": {
      "image/png": {
       "height": 420,
       "width": 420
      },
      "text/plain": {
       "height": 420,
       "width": 420
      }
     },
     "output_type": "display_data"
    }
   ],
   "source": [
    "pie(spray$count, labels=NA, main=\"Spray\", col=c(1:6))\n",
    "legend(\"bottomright\", legend=spray$spray, cex=1, fill=c(1:6))"
   ]
  },
  {
   "cell_type": "code",
   "execution_count": 9,
   "metadata": {},
   "outputs": [],
   "source": [
    "# bottomright\n",
    "# bottom\n",
    "# bottomleft\n",
    "# left\n",
    "# topleft\n",
    "# top\n",
    "# topright\n",
    "# right\n",
    "# center"
   ]
  }
 ],
 "metadata": {
  "kernelspec": {
   "display_name": "R 3.3",
   "language": "R",
   "name": "ir33"
  },
  "language_info": {
   "codemirror_mode": "r",
   "file_extension": ".r",
   "mimetype": "text/x-r-source",
   "name": "R",
   "pygments_lexer": "r",
   "version": "3.6.1"
  }
 },
 "nbformat": 4,
 "nbformat_minor": 4
}
